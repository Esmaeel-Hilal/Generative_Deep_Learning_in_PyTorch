{
  "cells": [
    {
      "cell_type": "markdown",
      "metadata": {
        "id": "rED-0Z9G98MC"
      },
      "source": [
        "# Autoencoders on Fashion MNIST"
      ]
    },
    {
      "cell_type": "markdown",
      "metadata": {
        "id": "P-3NYUYo-xZu"
      },
      "source": [
        "In this notebook, we'll walk through the steps required to train your own autoencoder on the fashion MNIST dataset."
      ]
    },
    {
      "cell_type": "code",
      "execution_count": 27,
      "metadata": {
        "colab": {
          "base_uri": "https://localhost:8080/",
          "height": 72
        },
        "id": "PlCkRR2R9szW",
        "outputId": "d19bcffd-8402-494e-f4ce-51d3a2b1b833"
      },
      "outputs": [
        {
          "name": "stdout",
          "output_type": "stream",
          "text": [
            "The autoreload extension is already loaded. To reload it, use:\n",
            "  %reload_ext autoreload\n"
          ]
        },
        {
          "data": {
            "application/vnd.google.colaboratory.intrinsic+json": {
              "type": "string"
            },
            "text/plain": [
              "'2.6.0+cu124'"
            ]
          },
          "execution_count": 27,
          "metadata": {},
          "output_type": "execute_result"
        }
      ],
      "source": [
        "%load_ext autoreload\n",
        "%autoreload 2\n",
        "\n",
        "import torch\n",
        "import torch.nn as nn\n",
        "import torch.optim as optim\n",
        "from torchvision import datasets, transforms\n",
        "from torch.utils.data import DataLoader\n",
        "import matplotlib.pyplot as plt\n",
        "torch.__version__\n",
        "\n",
        "# from notebooks.utils import display"
      ]
    },
    {
      "cell_type": "code",
      "execution_count": 28,
      "metadata": {
        "id": "PAkbFQUPnz0i"
      },
      "outputs": [],
      "source": [
        "# !git clone https://github.com/Esmaeel-Hilal/Generative_Deep_Learning_in_PyTorch.git"
      ]
    },
    {
      "cell_type": "code",
      "execution_count": 29,
      "metadata": {
        "colab": {
          "base_uri": "https://localhost:8080/"
        },
        "id": "wM12__ZEpV0W",
        "outputId": "8de3778c-bbae-4277-e9d4-e41e0be10ec0"
      },
      "outputs": [
        {
          "name": "stdout",
          "output_type": "stream",
          "text": [
            "remote: Enumerating objects: 7, done.\u001b[K\n",
            "remote: Counting objects:  14% (1/7)\u001b[K\rremote: Counting objects:  28% (2/7)\u001b[K\rremote: Counting objects:  42% (3/7)\u001b[K\rremote: Counting objects:  57% (4/7)\u001b[K\rremote: Counting objects:  71% (5/7)\u001b[K\rremote: Counting objects:  85% (6/7)\u001b[K\rremote: Counting objects: 100% (7/7)\u001b[K\rremote: Counting objects: 100% (7/7), done.\u001b[K\n",
            "remote: Compressing objects:  50% (1/2)\u001b[K\rremote: Compressing objects: 100% (2/2)\u001b[K\rremote: Compressing objects: 100% (2/2), done.\u001b[K\n",
            "remote: Total 4 (delta 2), reused 4 (delta 2), pack-reused 0 (from 0)\u001b[K\n",
            "Unpacking objects:  25% (1/4)\rUnpacking objects:  50% (2/4)\rUnpacking objects:  75% (3/4)\rUnpacking objects: 100% (4/4)\rUnpacking objects: 100% (4/4), 414 bytes | 414.00 KiB/s, done.\n",
            "From https://github.com/Esmaeel-Hilal/Generative_Deep_Learning_in_PyTorch\n",
            "   f559db2..41dd362  main       -> origin/main\n",
            "Updating f559db2..41dd362\n",
            "Fast-forward\n",
            " book_implementations_notebooks/engine.py | 3 \u001b[32m++\u001b[m\u001b[31m-\u001b[m\n",
            " 1 file changed, 2 insertions(+), 1 deletion(-)\n"
          ]
        }
      ],
      "source": [
        "# %cd Generative_Deep_Learning_in_PyTorch/\n",
        "!git pull"
      ]
    },
    {
      "cell_type": "code",
      "execution_count": 30,
      "metadata": {
        "id": "M_OSYbhEHcRH"
      },
      "outputs": [],
      "source": [
        "# imports from the repository\n",
        "from Generative_Deep_Learning_in_PyTorch.book_implementations_notebooks.utils import display\n",
        "from Generative_Deep_Learning_in_PyTorch.book_implementations_notebooks.engine import train"
      ]
    },
    {
      "cell_type": "code",
      "execution_count": 31,
      "metadata": {
        "colab": {
          "base_uri": "https://localhost:8080/"
        },
        "id": "9UZQa49h__wu",
        "outputId": "fceefac9-2fff-45e6-ea92-82f58bd7518d"
      },
      "outputs": [
        {
          "data": {
            "text/plain": [
              "True"
            ]
          },
          "execution_count": 31,
          "metadata": {},
          "output_type": "execute_result"
        }
      ],
      "source": [
        "torch.cuda.is_available()"
      ]
    },
    {
      "cell_type": "code",
      "execution_count": 32,
      "metadata": {
        "colab": {
          "base_uri": "https://localhost:8080/",
          "height": 36
        },
        "id": "4Gw_Cl-DC2-c",
        "outputId": "32bce894-f6a6-478f-b155-88f7fee05302"
      },
      "outputs": [
        {
          "data": {
            "application/vnd.google.colaboratory.intrinsic+json": {
              "type": "string"
            },
            "text/plain": [
              "'cuda'"
            ]
          },
          "execution_count": 32,
          "metadata": {},
          "output_type": "execute_result"
        }
      ],
      "source": [
        "device = \"cuda\" if torch.cuda.is_available() else \"cpu\"\n",
        "device"
      ]
    },
    {
      "cell_type": "code",
      "execution_count": null,
      "metadata": {
        "colab": {
          "base_uri": "https://localhost:8080/"
        },
        "id": "NJTtR5iDFJIr",
        "outputId": "ee34095e-8567-42c9-d27f-1b0b497db52f"
      },
      "outputs": [
        {
          "name": "stdout",
          "output_type": "stream",
          "text": [
            "helper_functions.py already exists, skipping download\n"
          ]
        }
      ],
      "source": [
        "# import requests\n",
        "# from pathlib import Path\n",
        "\n",
        "# # Download helper functions from Learn PyTorch repo (if not already downloaded)\n",
        "# if Path(\"helper_functions.py\").is_file():\n",
        "#   print(\"helper_functions.py already exists, skipping download\")\n",
        "# else:\n",
        "#   print(\"Downloading helper_functions.py\")\n",
        "#   # Note: you need the \"raw\" GitHub URL for this to work\n",
        "#   request = requests.get(\"https://raw.githubusercontent.com/mrdbourke/pytorch-deep-learning/main/helper_functions.py\")\n",
        "#   with open(\"helper_functions.py\", \"wb\") as f:\n",
        "#     f.write(request.content)"
      ]
    },
    {
      "cell_type": "code",
      "execution_count": 9,
      "metadata": {
        "id": "XCdFMp3pFZdm"
      },
      "outputs": [],
      "source": [
        "# # Import accuracy metric\n",
        "# from helper_functions import accuracy_fn # Note: could also use torchmetrics.Accuracy(task = 'multiclass', num_classes=len(class_names)).to(device)"
      ]
    },
    {
      "cell_type": "markdown",
      "metadata": {
        "id": "07oeA173c5Yb"
      },
      "source": [
        "## 0. Parameters <a name=\"parameters\"></a>"
      ]
    },
    {
      "cell_type": "code",
      "execution_count": 33,
      "metadata": {
        "id": "n4F05JBAc_-F"
      },
      "outputs": [],
      "source": [
        "IMAGE_SIZE = 32\n",
        "CHANNELS = 1\n",
        "BATCH_SIZE = 100\n",
        "BUFFER_SIZE = 1000\n",
        "VALIDATION_SPLIT = 0.2\n",
        "EMBEDDING_DIM = 2\n",
        "EPOCHS = 3"
      ]
    },
    {
      "cell_type": "markdown",
      "metadata": {
        "id": "qNXF3uPpdCzT"
      },
      "source": [
        "## 1. Prepare the data <a name=\"prepare\"></a>"
      ]
    },
    {
      "cell_type": "code",
      "execution_count": 34,
      "metadata": {
        "id": "oSaLGypk96D2"
      },
      "outputs": [],
      "source": [
        "# For the preprocessing step in the original notebook\n",
        "# We can instead do the following in PyTorch\n",
        "\n",
        "transform = transforms.Compose([\n",
        "    transforms.Pad(2),       # Pad to 32x32\n",
        "    transforms.ToTensor(),   # Normalize to [0,1] and add channel dim\n",
        "])\n",
        "# Note: You don't need expand_dims in PyTorch because ToTensor() already converts the grayscale 2D image to a [1, H, W] tensor automatically.\n",
        "\n",
        "# Load the data\n",
        "train_dataset = datasets.FashionMNIST(root='fashion_mnist_data', train=True, download=True, transform=transform)\n",
        "test_dataset = datasets.FashionMNIST(root='fashion_mnist_data', train=False, download=True, transform=transform)\n",
        "\n",
        "# Set up the dataloader\n",
        "train_dataloader = DataLoader(train_dataset, batch_size=BATCH_SIZE, shuffle=True)\n",
        "test_dataloader = DataLoader(test_dataset, batch_size=BATCH_SIZE, shuffle=False)"
      ]
    },
    {
      "cell_type": "code",
      "execution_count": 35,
      "metadata": {
        "colab": {
          "base_uri": "https://localhost:8080/",
          "height": 153
        },
        "id": "prY8E007kMF8",
        "outputId": "dcff3c4d-946a-4bc3-be6a-1b6b97e920aa"
      },
      "outputs": [
        {
          "data": {
            "image/png": "[encoded data removed]",
            "text/plain": [
              "<Figure size 2000x300 with 10 Axes>"
            ]
          },
          "metadata": {},
          "output_type": "display_data"
        }
      ],
      "source": [
        "# Show some items of clothing from the training set\n",
        "images, _ = next(iter(train_dataloader))\n",
        "display(images, n=10)"
      ]
    },
    {
      "cell_type": "markdown",
      "metadata": {
        "id": "2UVyq4jljHkt"
      },
      "source": [
        "**Note:**\n",
        "\n",
        "- In PyTorch, the batch size and data shuffling are configured when creating the DataLoader, before training begins.\n",
        "- In contrast, in TensorFlow/Keras, these settings are typically specified in the model.fit() method during training."
      ]
    },
    {
      "cell_type": "markdown",
      "metadata": {
        "id": "i5f2mNOIF8mH"
      },
      "source": [
        "## 2. Build the autoencoder <a name=\"build\"></a>"
      ]
    },
    {
      "cell_type": "code",
      "execution_count": 36,
      "metadata": {
        "id": "2NQGF9i5M7o9"
      },
      "outputs": [],
      "source": [
        "import torch\n",
        "import torch.nn as nn\n",
        "\n",
        "class ConvAutoencoder(nn.Module):\n",
        "    def __init__(self, embedding_dim=2):\n",
        "        super(ConvAutoencoder, self).__init__()\n",
        "\n",
        "        self.relu = nn.ReLU(inplace=True)\n",
        "\n",
        "        # Encoder\n",
        "        self.conv1 = nn.Conv2d(1, 32, kernel_size=3, stride=2, padding=1)\n",
        "        self.conv2 = nn.Conv2d(32, 64, kernel_size=3, stride=2, padding=1)\n",
        "        self.conv3 = nn.Conv2d(64, 128, kernel_size=3, stride=2, padding=1)\n",
        "        self.flatten = nn.Flatten()\n",
        "        self.fc_enc = nn.Linear(128 * 4 * 4, embedding_dim)\n",
        "\n",
        "        # Decoder\n",
        "        self.fc_dec = nn.Linear(embedding_dim, 128 * 4 * 4)\n",
        "        self.deconv1 = nn.ConvTranspose2d(128, 128, kernel_size=3, stride=2, padding=1, output_padding=1)\n",
        "        self.deconv2 = nn.ConvTranspose2d(128, 64, kernel_size=3, stride=2, padding=1, output_padding=1)\n",
        "        self.deconv3 = nn.ConvTranspose2d(64, 32, kernel_size=3, stride=2, padding=1, output_padding=1)\n",
        "        self.deconv_final = nn.Conv2d(32, 1, kernel_size=3, stride=1, padding=1)\n",
        "        self.sigmoid = nn.Sigmoid()\n",
        "\n",
        "    def encode(self, x):\n",
        "        x = self.relu(self.conv1(x))\n",
        "        x = self.relu(self.conv2(x))\n",
        "        x = self.relu(self.conv3(x))\n",
        "        shape_before_flattening = x.shape[1:]\n",
        "        x = self.flatten(x)\n",
        "        embedding = self.fc_enc(x)\n",
        "        return embedding, shape_before_flattening\n",
        "\n",
        "    def decode(self, embedding, shape_before_flattening):\n",
        "        x = self.fc_dec(embedding)\n",
        "        x = x.view(-1, *shape_before_flattening)\n",
        "        x = self.relu(self.deconv1(x))\n",
        "        x = self.relu(self.deconv2(x))\n",
        "        x = self.relu(self.deconv3(x))\n",
        "        x = self.sigmoid(self.deconv_final(x))\n",
        "        # x = x[:, :, 2:30, 2:30]\n",
        "        return x\n",
        "\n",
        "    def forward(self, x):\n",
        "        embedding, shape_before_flattening = self.encode(x)\n",
        "        reconstructed = self.decode(embedding, shape_before_flattening)\n",
        "        return reconstructed"
      ]
    },
    {
      "cell_type": "code",
      "execution_count": 37,
      "metadata": {
        "colab": {
          "base_uri": "https://localhost:8080/"
        },
        "id": "lJdR3rnIGDM2",
        "outputId": "a673ca16-d87e-49ea-dc7f-51c718f43465"
      },
      "outputs": [
        {
          "data": {
            "text/plain": [
              "ConvAutoencoder(\n",
              "  (relu): ReLU(inplace=True)\n",
              "  (conv1): Conv2d(1, 32, kernel_size=(3, 3), stride=(2, 2), padding=(1, 1))\n",
              "  (conv2): Conv2d(32, 64, kernel_size=(3, 3), stride=(2, 2), padding=(1, 1))\n",
              "  (conv3): Conv2d(64, 128, kernel_size=(3, 3), stride=(2, 2), padding=(1, 1))\n",
              "  (flatten): Flatten(start_dim=1, end_dim=-1)\n",
              "  (fc_enc): Linear(in_features=2048, out_features=2, bias=True)\n",
              "  (fc_dec): Linear(in_features=2, out_features=2048, bias=True)\n",
              "  (deconv1): ConvTranspose2d(128, 128, kernel_size=(3, 3), stride=(2, 2), padding=(1, 1), output_padding=(1, 1))\n",
              "  (deconv2): ConvTranspose2d(128, 64, kernel_size=(3, 3), stride=(2, 2), padding=(1, 1), output_padding=(1, 1))\n",
              "  (deconv3): ConvTranspose2d(64, 32, kernel_size=(3, 3), stride=(2, 2), padding=(1, 1), output_padding=(1, 1))\n",
              "  (deconv_final): Conv2d(32, 1, kernel_size=(3, 3), stride=(1, 1), padding=(1, 1))\n",
              "  (sigmoid): Sigmoid()\n",
              ")"
            ]
          },
          "execution_count": 37,
          "metadata": {},
          "output_type": "execute_result"
        }
      ],
      "source": [
        "autoencoder = ConvAutoencoder(embedding_dim=2)\n",
        "autoencoder"
      ]
    },
    {
      "cell_type": "code",
      "execution_count": 38,
      "metadata": {
        "id": "JclzJ3S6GDYU"
      },
      "outputs": [],
      "source": [
        "# Set up loss and optimizer\n",
        "loss_fn = nn.BCELoss()\n",
        "optimizer = optim.Adam(autoencoder.parameters(), lr=0.001)"
      ]
    },
    {
      "cell_type": "markdown",
      "metadata": {
        "id": "evCAuB6Umpas"
      },
      "source": [
        "## 3. Train the autoencoder <a name=\"train\"></a>"
      ]
    },
    {
      "cell_type": "markdown",
      "metadata": {
        "id": "p4lJCQ-ipFMg"
      },
      "source": [
        "**Note:**\n",
        "\n",
        "This block attempts to import TensorBoard from PyTorch. If it’s not installed, it automatically installs it using pip and then proceeds. After that, it initializes a `SummaryWriter` with default settings for logging training metrics.\n"
      ]
    },
    {
      "cell_type": "code",
      "execution_count": 39,
      "metadata": {
        "colab": {
          "base_uri": "https://localhost:8080/",
          "height": 412,
          "referenced_widgets": [
            "a3068a109f02446aa4e878664a7733e2",
            "e32db31b0d9b48cab5bba16d6260355f",
            "c50aca2679e040e4a5f6edc91051b752",
            "35322009bd0f44e6b414f2f9e3625fe8",
            "31a9a879f270497ba6a3cc9c6f0adc4a",
            "8035b9e598694ca1a18d2b4f5b68ea44",
            "4636ca6dcc9448888930c54e98db4a74",
            "59b42abe82f04a1598b2ec5f61a20f39",
            "a302269b93334367b75abf14fa242d45",
            "50668065eb954b488b6a406eb89bcc72",
            "96da0b57974c458b9ab6c50bd6dbeb0b"
          ]
        },
        "id": "ZV11gT4wawua",
        "outputId": "de392693-a68f-4089-987e-40a6f8a76a7a"
      },
      "outputs": [
        {
          "data": {
            "application/vnd.jupyter.widget-view+json": {
              "model_id": "a3068a109f02446aa4e878664a7733e2",
              "version_major": 2,
              "version_minor": 0
            },
            "text/plain": [
              "  0%|          | 0/10 [00:00<?, ?it/s]"
            ]
          },
          "metadata": {},
          "output_type": "display_data"
        },
        {
          "name": "stdout",
          "output_type": "stream",
          "text": [
            "Saved better model at epoch 0 with loss 0.2614\n",
            "Epoch: 1 | train_loss: 0.2890 | train_acc: 0.0000 | test_loss: 0.2614 | test_acc: 0.0000\n",
            "Saved better model at epoch 1 with loss 0.2560\n",
            "Epoch: 2 | train_loss: 0.2565 | train_acc: 0.0000 | test_loss: 0.2560 | test_acc: 0.0000\n",
            "Saved better model at epoch 2 with loss 0.2547\n",
            "Epoch: 3 | train_loss: 0.2534 | train_acc: 0.0000 | test_loss: 0.2547 | test_acc: 0.0000\n",
            "Saved better model at epoch 3 with loss 0.2522\n",
            "Epoch: 4 | train_loss: 0.2515 | train_acc: 0.0000 | test_loss: 0.2522 | test_acc: 0.0000\n",
            "Saved better model at epoch 4 with loss 0.2517\n",
            "Epoch: 5 | train_loss: 0.2501 | train_acc: 0.0000 | test_loss: 0.2517 | test_acc: 0.0000\n",
            "Saved better model at epoch 5 with loss 0.2502\n",
            "Epoch: 6 | train_loss: 0.2490 | train_acc: 0.0000 | test_loss: 0.2502 | test_acc: 0.0000\n",
            "Saved better model at epoch 6 with loss 0.2497\n",
            "Epoch: 7 | train_loss: 0.2483 | train_acc: 0.0000 | test_loss: 0.2497 | test_acc: 0.0000\n",
            "Saved better model at epoch 7 with loss 0.2493\n",
            "Epoch: 8 | train_loss: 0.2475 | train_acc: 0.0000 | test_loss: 0.2493 | test_acc: 0.0000\n",
            "Saved better model at epoch 8 with loss 0.2483\n",
            "Epoch: 9 | train_loss: 0.2469 | train_acc: 0.0000 | test_loss: 0.2483 | test_acc: 0.0000\n",
            "Saved better model at epoch 9 with loss 0.2480\n",
            "Epoch: 10 | train_loss: 0.2464 | train_acc: 0.0000 | test_loss: 0.2480 | test_acc: 0.0000\n"
          ]
        }
      ],
      "source": [
        "autoencoder_results = train(model=autoencoder,\n",
        "                            train_dataloader=train_dataloader,\n",
        "                            test_dataloader=test_dataloader,\n",
        "                            optimizer=optimizer,\n",
        "                            loss_fn=loss_fn,\n",
        "                            epochs=10,\n",
        "                            device=device,\n",
        "                            compute_accuracy=False,\n",
        "                            target_fn=lambda X, y: X,\n",
        "                            save_best=True,\n",
        "                            use_writer=True)"
      ]
    },
    {
      "cell_type": "code",
      "execution_count": 45,
      "metadata": {
        "colab": {
          "base_uri": "https://localhost:8080/"
        },
        "id": "A9nrlFrfVEOM",
        "outputId": "196d7f20-38b1-4850-d319-bf18606d2555"
      },
      "outputs": [
        {
          "data": {
            "text/plain": [
              "{'train_loss': [0.2890359226614237,\n",
              "  0.2564958422631025,\n",
              "  0.2534068330874046,\n",
              "  0.2514544273416201,\n",
              "  0.250067815259099,\n",
              "  0.2490298421184222,\n",
              "  0.24828682616353034,\n",
              "  0.24753513902425767,\n",
              "  0.24692339467505614,\n",
              "  0.246417253986001],\n",
              " 'train_acc': [0.0, 0.0, 0.0, 0.0, 0.0, 0.0, 0.0, 0.0, 0.0, 0.0],\n",
              " 'test_loss': [0.26143133744597435,\n",
              "  0.25602407634258273,\n",
              "  0.25472073510289195,\n",
              "  0.2522115658223629,\n",
              "  0.2517462311685085,\n",
              "  0.2501736783981323,\n",
              "  0.24966213017702102,\n",
              "  0.24931252866983414,\n",
              "  0.24832366928458213,\n",
              "  0.24798275008797646],\n",
              " 'test_acc': [0.0, 0.0, 0.0, 0.0, 0.0, 0.0, 0.0, 0.0, 0.0, 0.0]}"
            ]
          },
          "execution_count": 45,
          "metadata": {},
          "output_type": "execute_result"
        }
      ],
      "source": [
        "autoencoder_results"
      ]
    },
    {
      "cell_type": "code",
      "execution_count": 40,
      "metadata": {
        "id": "AnyTiUkvGD2M"
      },
      "outputs": [],
      "source": [
        "train_features_batch, train_labels_batch = next(iter(train_dataloader))  # ignore labels\n",
        "train_features_batch = train_features_batch.to(device)\n",
        "autoencoder.to(device)\n",
        "autoencoder.eval()\n",
        "with torch.inference_mode():\n",
        "    reconstructed = autoencoder(train_features_batch)"
      ]
    },
    {
      "cell_type": "code",
      "execution_count": 41,
      "metadata": {
        "colab": {
          "base_uri": "https://localhost:8080/"
        },
        "id": "SmfMgdCdWg_3",
        "outputId": "be6c3a1e-82c9-40ee-f70c-df185f5f8a49"
      },
      "outputs": [
        {
          "data": {
            "text/plain": [
              "torch.Size([100, 1, 32, 32])"
            ]
          },
          "execution_count": 41,
          "metadata": {},
          "output_type": "execute_result"
        }
      ],
      "source": [
        "reconstructed.shape"
      ]
    },
    {
      "cell_type": "code",
      "execution_count": 49,
      "metadata": {
        "id": "DdhpLGlxaGa0"
      },
      "outputs": [],
      "source": [
        "import matplotlib.pyplot as plt\n",
        "\n",
        "def plot_loss_curves(results: dict):\n",
        "    \"\"\"\n",
        "    Plots training and validation loss curves from a results dictionary.\n",
        "\n",
        "    Args:\n",
        "        results (dict): A dictionary containing:\n",
        "                        'train_loss': list of training losses per epoch\n",
        "                        'test_loss' : list of test losses per epoch\n",
        "    \"\"\"\n",
        "    epochs = range(1, len(results['train_loss']) + 1)\n",
        "\n",
        "    # train_loss_list = [t.item() for t in results[\"train_loss\"]]\n",
        "    # test_loss_list = [t.item() for t in results[\"test_loss\"]]\n",
        "\n",
        "    train_loss_list =  results[\"train_loss\"]\n",
        "    test_loss_list = results[\"test_loss\"]\n",
        "\n",
        "    plt.figure(figsize=(8, 5))\n",
        "    plt.plot(epochs, train_loss_list, label='Train Loss')\n",
        "    plt.plot(epochs, train_loss_list, label='Test Loss')\n",
        "    plt.title(\"Loss Over Epochs\")\n",
        "    plt.xlabel(\"Epoch\")\n",
        "    plt.ylabel(\"Loss\")\n",
        "    plt.legend()\n",
        "    plt.grid(True)\n",
        "    plt.tight_layout()\n",
        "    plt.show()\n"
      ]
    },
    {
      "cell_type": "code",
      "execution_count": 50,
      "metadata": {
        "colab": {
          "base_uri": "https://localhost:8080/",
          "height": 507
        },
        "id": "v1CO57j9aILd",
        "outputId": "30d0e5a6-b55e-43ff-bf2c-3150f680f842"
      },
      "outputs": [
        {
          "data": {
            "image/png": "[encoded data removed]",
            "text/plain": [
              "<Figure size 800x500 with 1 Axes>"
            ]
          },
          "metadata": {},
          "output_type": "display_data"
        }
      ],
      "source": [
        "plot_loss_curves(autoencoder_results)"
      ]
    },
    {
      "cell_type": "code",
      "execution_count": 48,
      "metadata": {
        "colab": {
          "base_uri": "https://localhost:8080/",
          "height": 829
        },
        "id": "mne1iUheWia6",
        "outputId": "025bd847-37c9-4180-ae4b-cc658a8e2621"
      },
      "outputs": [
        {
          "data": {
            "image/png": "[encoded data removed]",
            "text/plain": [
              "<Figure size 1000x1000 with 16 Axes>"
            ]
          },
          "metadata": {},
          "output_type": "display_data"
        }
      ],
      "source": [
        "# Plot more images\n",
        "torch.manual_seed(56)\n",
        "fig = plt.figure(figsize=(10, 10))\n",
        "rows, cols = 4, 4\n",
        "for i in range(1, rows * cols + 1):\n",
        "    img, label = reconstructed[i][0].cpu(), train_labels_batch[i].item()\n",
        "    fig.add_subplot(rows, cols, i)\n",
        "    plt.imshow(img.squeeze(), cmap='gray')\n",
        "    plt.title(label)\n",
        "    plt.axis('off')\n",
        "plt.show()"
      ]
    },
    {
      "cell_type": "code",
      "execution_count": null,
      "metadata": {
        "colab": {
          "base_uri": "https://localhost:8080/",
          "height": 17
        },
        "id": "Iz-S8SEtWrrB",
        "outputId": "fb606408-4415-4db2-faaa-2826c7038d81"
      },
      "outputs": [
        {
          "data": {
            "application/javascript": "IPython.notebook.clear_output()",
            "text/plain": [
              "<IPython.core.display.Javascript object>"
            ]
          },
          "metadata": {},
          "output_type": "display_data"
        }
      ],
      "source": [
        "# Add this cell to your notebook and execute it before saving\n",
        "from IPython.display import display, Javascript\n",
        "display(Javascript('IPython.notebook.clear_output()'))"
      ]
    },
    {
      "cell_type": "code",
      "execution_count": null,
      "metadata": {
        "id": "6dstIZrm3o0p"
      },
      "outputs": [],
      "source": []
    }
  ],
  "metadata": {
    "accelerator": "GPU",
    "colab": {
      "gpuType": "T4",
      "provenance": []
    },
    "kernelspec": {
      "display_name": "Python 3",
      "name": "python3"
    },
    "language_info": {
      "name": "python"
    }
  },
  "nbformat": 4,
  "nbformat_minor": 0
}
